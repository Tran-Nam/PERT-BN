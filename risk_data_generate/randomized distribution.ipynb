{
 "cells": [
  {
   "cell_type": "code",
   "execution_count": 1,
   "metadata": {},
   "outputs": [],
   "source": [
    "import numpy as np\n",
    "import os"
   ]
  },
  {
   "cell_type": "code",
   "execution_count": 2,
   "metadata": {},
   "outputs": [],
   "source": [
    "risk_dis_expert_path = 'distribution_expert.txt'\n",
    "risk_dis_randomize_path = 'distribution_generate.txt'"
   ]
  },
  {
   "cell_type": "code",
   "execution_count": 15,
   "metadata": {},
   "outputs": [],
   "source": [
    "with open(risk_dis_randomize_path, 'w') as f_rand:\n",
    "    with open(risk_dis_expert_path, 'r') as f_ex:\n",
    "        risk_prob_raw = f_ex.readlines()\n",
    "        for risk_prob in risk_prob_raw:\n",
    "            risk_prob = risk_prob[:-1].split(',')\n",
    "            risk_prob = [float(j) for j in risk_prob]\n",
    "            middle_idx = len(risk_prob)//2\n",
    "            for i in range(middle_idx):\n",
    "                sigma = risk_prob[i]/10 ########### sigma = 1/10 mean\n",
    "                risk_prob[i] += sigma*np.random.randn() #### gaussian\n",
    "                risk_prob[i] = round(risk_prob[i], 3)\n",
    "                risk_prob[middle_idx+i] = round(1 - risk_prob[i], 3)\n",
    "\n",
    "            risk_prob = [str(j) for j in risk_prob]\n",
    "            risk_prob_randomize = ','.join(risk_prob) + '\\n'\n",
    "            f_rand.write(risk_prob_randomize)\n",
    "#             input()"
   ]
  },
  {
   "cell_type": "code",
   "execution_count": null,
   "metadata": {},
   "outputs": [],
   "source": []
  },
  {
   "cell_type": "code",
   "execution_count": null,
   "metadata": {},
   "outputs": [],
   "source": []
  },
  {
   "cell_type": "code",
   "execution_count": null,
   "metadata": {},
   "outputs": [],
   "source": []
  },
  {
   "cell_type": "code",
   "execution_count": null,
   "metadata": {},
   "outputs": [],
   "source": []
  }
 ],
 "metadata": {
  "kernelspec": {
   "display_name": "Python 3",
   "language": "python",
   "name": "python3"
  },
  "language_info": {
   "codemirror_mode": {
    "name": "ipython",
    "version": 3
   },
   "file_extension": ".py",
   "mimetype": "text/x-python",
   "name": "python",
   "nbconvert_exporter": "python",
   "pygments_lexer": "ipython3",
   "version": "3.6.8"
  }
 },
 "nbformat": 4,
 "nbformat_minor": 2
}
