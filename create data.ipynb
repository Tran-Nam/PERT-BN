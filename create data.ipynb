{
 "cells": [
  {
   "source": [
    "import pandas as pd\n",
    "import numpy as np"
   ],
   "cell_type": "code",
   "outputs": [],
   "metadata": {},
   "execution_count": 1
  },
  {
   "source": [
    "act_name_list = 'A,B,C,D,E,F,G,H,I,J,K,G,H,L,M,N'.split(',')\n",
    "no_act = len(act_name_list)\n",
    "print(act_name_list)"
   ],
   "cell_type": "code",
   "outputs": [
    {
     "output_type": "stream",
     "name": "stdout",
     "text": "['A', 'B', 'C', 'D', 'E', 'F', 'G', 'H', 'I', 'J', 'K', 'G', 'H', 'L', 'M', 'N']\n"
    }
   ],
   "metadata": {},
   "execution_count": 2
  },
  {
   "source": [
    "length_act = np.random.randint(no_act//2, no_act)\n",
    "act_name = act_name_list[:length_act]"
   ],
   "cell_type": "code",
   "outputs": [],
   "metadata": {},
   "execution_count": 3
  },
  {
   "source": [
    "header = 'STT,id,optimistic,moslikely,pessimistic,Predecessor'\n",
    "for i in range(1):\n",
    "    with open('{}.csv'.format(i), 'w') as f:\n",
    "        f.write(header + '\\n')\n",
    "        for j in range(len(act_name)):\n",
    "            act = act_name[j]\n",
    "            opt = np.random.randint(1, 7)\n",
    "            mostlikely = opt + np.random.randint(0, 3)\n",
    "            pessimistic = mostlikely + np.random.randint(0, 7)\n",
    "            no_pre = np.random.randint(1, 3)\n",
    "            if j==0 or no_pre > len(act_name[:j]):\n",
    "                pre = ' '\n",
    "            else:\n",
    "                pre = np.random.choice(act_name[:j], no_pre, False)\n",
    "                pre = ' '.join(pre)\n",
    "            f.write(str(j) + ',' + \\\n",
    "                    act + ',' + \\\n",
    "                    str(opt) + ',' + \\\n",
    "                    str(mostlikely) + ',' + \\\n",
    "                    str(pessimistic) + ',' + \\\n",
    "                    pre + '\\n')"
   ],
   "cell_type": "code",
   "outputs": [],
   "metadata": {},
   "execution_count": 4
  },
  {
   "cell_type": "code",
   "execution_count": null,
   "metadata": {},
   "outputs": [],
   "source": []
  },
  {
   "cell_type": "code",
   "execution_count": null,
   "metadata": {},
   "outputs": [],
   "source": []
  }
 ],
 "metadata": {
  "kernelspec": {
   "display_name": "Python 3",
   "language": "python",
   "name": "python3"
  },
  "language_info": {
   "codemirror_mode": {
    "name": "ipython",
    "version": 3
   },
   "file_extension": ".py",
   "mimetype": "text/x-python",
   "name": "python",
   "nbconvert_exporter": "python",
   "pygments_lexer": "ipython3",
   "version": "3.6.8"
  }
 },
 "nbformat": 4,
 "nbformat_minor": 2
}