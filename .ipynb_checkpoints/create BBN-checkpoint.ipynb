{
 "cells": [
  {
   "cell_type": "code",
   "execution_count": 8,
   "metadata": {},
   "outputs": [],
   "source": [
    "from pomegranate import *\n",
    "import numpy as np"
   ]
  },
  {
   "cell_type": "code",
   "execution_count": 10,
   "metadata": {},
   "outputs": [],
   "source": [
    "# The guests initial door selection is completely random\n",
    "guest = DiscreteDistribution({'A': 1./3, 'B': 1./3, 'C': 1./3})\n",
    "\n",
    "# The door the prize is behind is also completely random\n",
    "prize = DiscreteDistribution({'A': 1./3, 'B': 1./3, 'C': 1./3})\n",
    "\n",
    "monty = ConditionalProbabilityTable(\n",
    "        [[ 'A', 'A', 'A', 0.0 ],\n",
    "         [ 'A', 'A', 'B', 0.5 ],\n",
    "         [ 'A', 'A', 'C', 0.5 ],\n",
    "         [ 'A', 'B', 'A', 0.0 ],\n",
    "         [ 'A', 'B', 'B', 0.0 ],\n",
    "         [ 'A', 'B', 'C', 1.0 ],\n",
    "         [ 'A', 'C', 'A', 0.0 ],\n",
    "         [ 'A', 'C', 'B', 1.0 ],\n",
    "         [ 'A', 'C', 'C', 0.0 ],\n",
    "         [ 'B', 'A', 'A', 0.0 ],\n",
    "         [ 'B', 'A', 'B', 0.0 ],\n",
    "         [ 'B', 'A', 'C', 1.0 ],\n",
    "         [ 'B', 'B', 'A', 0.5 ],\n",
    "         [ 'B', 'B', 'B', 0.0 ],\n",
    "         [ 'B', 'B', 'C', 0.5 ],\n",
    "         [ 'B', 'C', 'A', 1.0 ],\n",
    "         [ 'B', 'C', 'B', 0.0 ],\n",
    "         [ 'B', 'C', 'C', 0.0 ],\n",
    "         [ 'C', 'A', 'A', 0.0 ],\n",
    "         [ 'C', 'A', 'B', 1.0 ],\n",
    "         [ 'C', 'A', 'C', 0.0 ],\n",
    "         [ 'C', 'B', 'A', 1.0 ],\n",
    "         [ 'C', 'B', 'B', 0.0 ],\n",
    "         [ 'C', 'B', 'C', 0.0 ],\n",
    "         [ 'C', 'C', 'A', 0.5 ],\n",
    "         [ 'C', 'C', 'B', 0.5 ],\n",
    "         [ 'C', 'C', 'C', 0.0 ]], [guest, prize])"
   ]
  },
  {
   "cell_type": "code",
   "execution_count": 11,
   "metadata": {},
   "outputs": [],
   "source": [
    "# State objects hold both the distribution, and a high level name.\n",
    "s1 = State(guest, name=\"guest\")\n",
    "s2 = State(prize, name=\"prize\")\n",
    "s3 = State(monty, name=\"monty\")"
   ]
  },
  {
   "cell_type": "code",
   "execution_count": 12,
   "metadata": {},
   "outputs": [],
   "source": [
    "# Create the Bayesian network object with a useful name\n",
    "model = BayesianNetwork(\"Monty Hall Problem\")\n",
    "\n",
    "# Add the three states to the network \n",
    "model.add_states(s1, s2, s3)\n",
    "\n",
    "# Add edges which represent conditional dependencies, where the second node is \n",
    "# conditionally dependent on the first node (Monty is dependent on both guest and prize)\n",
    "model.add_edge(s1, s3)\n",
    "model.add_edge(s2, s3)\n",
    "\n",
    "model.bake()"
   ]
  },
  {
   "cell_type": "code",
   "execution_count": 13,
   "metadata": {},
   "outputs": [
    {
     "data": {
      "text/plain": [
       "0.11111111111111109"
      ]
     },
     "execution_count": 13,
     "metadata": {},
     "output_type": "execute_result"
    }
   ],
   "source": [
    "model.probability(['A', 'B', 'C'])"
   ]
  },
  {
   "cell_type": "code",
   "execution_count": 19,
   "metadata": {},
   "outputs": [
    {
     "name": "stdout",
     "output_type": "stream",
     "text": [
      "guest\tA\n",
      "prize\t{\n",
      "    \"class\" :\"Distribution\",\n",
      "    \"dtype\" :\"str\",\n",
      "    \"name\" :\"DiscreteDistribution\",\n",
      "    \"parameters\" :[\n",
      "        {\n",
      "            \"A\" :0.3333333333333333,\n",
      "            \"B\" :0.3333333333333333,\n",
      "            \"C\" :0.3333333333333333\n",
      "        }\n",
      "    ],\n",
      "    \"frozen\" :false\n",
      "}\n",
      "monty\t{\n",
      "    \"class\" :\"Distribution\",\n",
      "    \"dtype\" :\"str\",\n",
      "    \"name\" :\"DiscreteDistribution\",\n",
      "    \"parameters\" :[\n",
      "        {\n",
      "            \"C\" :0.49999999999999983,\n",
      "            \"A\" :0.0,\n",
      "            \"B\" :0.49999999999999983\n",
      "        }\n",
      "    ],\n",
      "    \"frozen\" :false\n",
      "}\n"
     ]
    }
   ],
   "source": [
    "beliefs = model.predict_proba({ 'guest' : 'A' })\n",
    "beliefs = map(str, beliefs)\n",
    "print(\"\\n\".join( \"{}\\t{}\".format( state.name, belief ) for state, belief in zip( model.states, beliefs ) ))\n"
   ]
  },
  {
   "cell_type": "code",
   "execution_count": 18,
   "metadata": {},
   "outputs": [
    {
     "name": "stdout",
     "output_type": "stream",
     "text": [
      "guest\tA\n",
      "prize\t{\n",
      "    \"class\" :\"Distribution\",\n",
      "    \"dtype\" :\"str\",\n",
      "    \"name\" :\"DiscreteDistribution\",\n",
      "    \"parameters\" :[\n",
      "        {\n",
      "            \"A\" :0.3333333333333334,\n",
      "            \"B\" :0.0,\n",
      "            \"C\" :0.6666666666666664\n",
      "        }\n",
      "    ],\n",
      "    \"frozen\" :false\n",
      "}\n",
      "monty\tB\n"
     ]
    }
   ],
   "source": [
    "beliefs = model.predict_proba({'guest' : 'A', 'monty' : 'B'})\n",
    "print(\"\\n\".join( \"{}\\t{}\".format( state.name, str(belief) ) for state, belief in zip( model.states, beliefs )))\n"
   ]
  },
  {
   "cell_type": "code",
   "execution_count": null,
   "metadata": {},
   "outputs": [],
   "source": []
  },
  {
   "cell_type": "code",
   "execution_count": null,
   "metadata": {},
   "outputs": [],
   "source": []
  }
 ],
 "metadata": {
  "kernelspec": {
   "display_name": "Python 3",
   "language": "python",
   "name": "python3"
  },
  "language_info": {
   "codemirror_mode": {
    "name": "ipython",
    "version": 3
   },
   "file_extension": ".py",
   "mimetype": "text/x-python",
   "name": "python",
   "nbconvert_exporter": "python",
   "pygments_lexer": "ipython3",
   "version": "3.6.8"
  }
 },
 "nbformat": 4,
 "nbformat_minor": 2
}
